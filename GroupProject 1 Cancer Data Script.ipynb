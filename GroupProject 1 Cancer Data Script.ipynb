{
 "cells": [
  {
   "cell_type": "code",
   "execution_count": 2,
   "metadata": {
    "collapsed": true
   },
   "outputs": [],
   "source": [
    "import os\n",
    "import pandas as pd\n",
    "import numpy as np\n",
    "import matplotlib.pyplot as plt"
   ]
  },
  {
   "cell_type": "code",
   "execution_count": 3,
   "metadata": {
    "collapsed": true
   },
   "outputs": [],
   "source": [
    "file = os.path.join(\".\", \"Data Used\", \"BYAREA.csv\")"
   ]
  },
  {
   "cell_type": "code",
   "execution_count": 4,
   "metadata": {
    "collapsed": true
   },
   "outputs": [],
   "source": [
    "data = pd.read_csv(file)"
   ]
  },
  {
   "cell_type": "code",
   "execution_count": 5,
   "metadata": {},
   "outputs": [
    {
     "data": {
      "text/html": [
       "<div>\n",
       "<style>\n",
       "    .dataframe thead tr:only-child th {\n",
       "        text-align: right;\n",
       "    }\n",
       "\n",
       "    .dataframe thead th {\n",
       "        text-align: left;\n",
       "    }\n",
       "\n",
       "    .dataframe tbody tr th {\n",
       "        vertical-align: top;\n",
       "    }\n",
       "</style>\n",
       "<table border=\"1\" class=\"dataframe\">\n",
       "  <thead>\n",
       "    <tr style=\"text-align: right;\">\n",
       "      <th></th>\n",
       "      <th>AREA</th>\n",
       "      <th>COUNT</th>\n",
       "      <th>EVENT_TYPE</th>\n",
       "      <th>POPULATION</th>\n",
       "      <th>RACE</th>\n",
       "      <th>SEX</th>\n",
       "      <th>SITE</th>\n",
       "      <th>YEAR</th>\n",
       "    </tr>\n",
       "  </thead>\n",
       "  <tbody>\n",
       "    <tr>\n",
       "      <th>0</th>\n",
       "      <td>Alabama</td>\n",
       "      <td>9299</td>\n",
       "      <td>Incidence</td>\n",
       "      <td>2293259</td>\n",
       "      <td>All Races</td>\n",
       "      <td>Female</td>\n",
       "      <td>All Cancer Sites Combined</td>\n",
       "      <td>1999</td>\n",
       "    </tr>\n",
       "    <tr>\n",
       "      <th>1</th>\n",
       "      <td>Alabama</td>\n",
       "      <td>4366</td>\n",
       "      <td>Mortality</td>\n",
       "      <td>2293259</td>\n",
       "      <td>All Races</td>\n",
       "      <td>Female</td>\n",
       "      <td>All Cancer Sites Combined</td>\n",
       "      <td>1999</td>\n",
       "    </tr>\n",
       "    <tr>\n",
       "      <th>2</th>\n",
       "      <td>Alabama</td>\n",
       "      <td>9467</td>\n",
       "      <td>Incidence</td>\n",
       "      <td>2302835</td>\n",
       "      <td>All Races</td>\n",
       "      <td>Female</td>\n",
       "      <td>All Cancer Sites Combined</td>\n",
       "      <td>2000</td>\n",
       "    </tr>\n",
       "    <tr>\n",
       "      <th>3</th>\n",
       "      <td>Alabama</td>\n",
       "      <td>4425</td>\n",
       "      <td>Mortality</td>\n",
       "      <td>2302835</td>\n",
       "      <td>All Races</td>\n",
       "      <td>Female</td>\n",
       "      <td>All Cancer Sites Combined</td>\n",
       "      <td>2000</td>\n",
       "    </tr>\n",
       "    <tr>\n",
       "      <th>4</th>\n",
       "      <td>Alabama</td>\n",
       "      <td>9969</td>\n",
       "      <td>Incidence</td>\n",
       "      <td>2309496</td>\n",
       "      <td>All Races</td>\n",
       "      <td>Female</td>\n",
       "      <td>All Cancer Sites Combined</td>\n",
       "      <td>2001</td>\n",
       "    </tr>\n",
       "  </tbody>\n",
       "</table>\n",
       "</div>"
      ],
      "text/plain": [
       "      AREA COUNT EVENT_TYPE  POPULATION       RACE     SEX  \\\n",
       "0  Alabama  9299  Incidence     2293259  All Races  Female   \n",
       "1  Alabama  4366  Mortality     2293259  All Races  Female   \n",
       "2  Alabama  9467  Incidence     2302835  All Races  Female   \n",
       "3  Alabama  4425  Mortality     2302835  All Races  Female   \n",
       "4  Alabama  9969  Incidence     2309496  All Races  Female   \n",
       "\n",
       "                        SITE  YEAR  \n",
       "0  All Cancer Sites Combined  1999  \n",
       "1  All Cancer Sites Combined  1999  \n",
       "2  All Cancer Sites Combined  2000  \n",
       "3  All Cancer Sites Combined  2000  \n",
       "4  All Cancer Sites Combined  2001  "
      ]
     },
     "execution_count": 5,
     "metadata": {},
     "output_type": "execute_result"
    }
   ],
   "source": [
    "#dropping unnecessary labels:\n",
    "data = data.drop(labels = [\"AGE_ADJUSTED_RATE\",'AGE_ADJUSTED_CI_UPPER', 'AGE_ADJUSTED_CI_LOWER', 'CRUDE_CI_LOWER', 'CRUDE_CI_UPPER', 'CRUDE_RATE'] ,axis = 1)\n",
    "data.head()"
   ]
  },
  {
   "cell_type": "code",
   "execution_count": 6,
   "metadata": {
    "collapsed": true
   },
   "outputs": [],
   "source": [
    "#remove random cities/regions, returning only whole states:\n",
    "data = data.loc[(data[\"AREA\"] == \"Alabama\") | (data[\"AREA\"] == \"Alaska\") | (data[\"AREA\"] == \"Arizona\") | (data[\"AREA\"] == \"Arkansas\")\n",
    "                 | (data[\"AREA\"] == \"California\") | (data[\"AREA\"] == \"Colorado\") | (data[\"AREA\"] == \"Connecticut\") | (data[\"AREA\"] == \"Delaware\")\n",
    "                 | (data[\"AREA\"] == \"District of Columbia\") | (data[\"AREA\"] == \"Florida\") | (data[\"AREA\"] == \"Georgia\") | (data[\"AREA\"] == \"Hawaii\")\n",
    "                | (data[\"AREA\"] == \"Idaho\") | (data[\"AREA\"] == \"Illinois\") | (data[\"AREA\"] == \"Indiana\") | (data[\"AREA\"] == \"Iowa\")\n",
    "                 | (data[\"AREA\"] == \"Kansas\") | (data[\"AREA\"] == \"Kentucky\") | (data[\"AREA\"] == \"Louisiana\") | (data[\"AREA\"] == \"Maine\") | (data[\"AREA\"] == \"Maryland\")\n",
    "                 | (data[\"AREA\"] == \"Massachusetts\") | (data[\"AREA\"] == \"Michigan\") | (data[\"AREA\"] == \"Minnesota\") | (data[\"AREA\"] == \"Mississippi\")\n",
    "                 | (data[\"AREA\"] == \"Missouri\") | (data[\"AREA\"] == \"Montana\") | (data[\"AREA\"] == \"Nebraska\") | (data[\"AREA\"] == \"Nevada\") | (data[\"AREA\"] == \"New Hampshire\")\n",
    "                 | (data[\"AREA\"] == \"New Jersey\") | (data[\"AREA\"] == \"New Mexico\") | (data[\"AREA\"] == \"New York\") | (data[\"AREA\"] == \"North Carolina\") | (data[\"AREA\"] == \"North Dakota\")\n",
    "                 | (data[\"AREA\"] == \"Ohio\") | (data[\"AREA\"] == \"Oklahoma\") | (data[\"AREA\"] == \"Oregon\") | (data[\"AREA\"] == \"Pennsylvania\") | (data[\"AREA\"] == \"Rhode Island\")\n",
    "                 | (data[\"AREA\"] == \"South Carolina\") | (data[\"AREA\"] == \"South Dakota\") | (data[\"AREA\"] == \"Tennessee\") | (data[\"AREA\"] == \"Texas\") | (data[\"AREA\"] == \"Utah\")\n",
    "                 | (data[\"AREA\"] == \"Vermont\") | (data[\"AREA\"] == \"Virginia\") | (data[\"AREA\"] == \"Washington\") | (data[\"AREA\"] == \"West Virginia\") | (data[\"AREA\"] == \"Wisconsin\")\n",
    "                 | (data[\"AREA\"] == \"Wyoming\")]\n",
    "\n",
    "#remove this single year parameter from years\n",
    "data = data[(data[\"YEAR\"] != \"2010-2014\")]"
   ]
  },
  {
   "cell_type": "code",
   "execution_count": 7,
   "metadata": {},
   "outputs": [
    {
     "name": "stderr",
     "output_type": "stream",
     "text": [
      "C:\\Users\\dan.brueckman\\Anaconda3\\envs\\PythonData\\lib\\site-packages\\ipykernel_launcher.py:6: SettingWithCopyWarning: \n",
      "A value is trying to be set on a copy of a slice from a DataFrame\n",
      "\n",
      "See the caveats in the documentation: http://pandas.pydata.org/pandas-docs/stable/indexing.html#indexing-view-versus-copy\n",
      "  \n",
      "C:\\Users\\dan.brueckman\\Anaconda3\\envs\\PythonData\\lib\\site-packages\\ipykernel_launcher.py:16: SettingWithCopyWarning: \n",
      "A value is trying to be set on a copy of a slice from a DataFrame\n",
      "\n",
      "See the caveats in the documentation: http://pandas.pydata.org/pandas-docs/stable/indexing.html#indexing-view-versus-copy\n",
      "  app.launch_new_instance()\n",
      "C:\\Users\\dan.brueckman\\Anaconda3\\envs\\PythonData\\lib\\site-packages\\ipykernel_launcher.py:17: SettingWithCopyWarning: \n",
      "A value is trying to be set on a copy of a slice from a DataFrame\n",
      "\n",
      "See the caveats in the documentation: http://pandas.pydata.org/pandas-docs/stable/indexing.html#indexing-view-versus-copy\n",
      "C:\\Users\\dan.brueckman\\Anaconda3\\envs\\PythonData\\lib\\site-packages\\ipykernel_launcher.py:20: SettingWithCopyWarning: \n",
      "A value is trying to be set on a copy of a slice from a DataFrame.\n",
      "Try using .loc[row_indexer,col_indexer] = value instead\n",
      "\n",
      "See the caveats in the documentation: http://pandas.pydata.org/pandas-docs/stable/indexing.html#indexing-view-versus-copy\n"
     ]
    },
    {
     "data": {
      "text/html": [
       "<div>\n",
       "<style>\n",
       "    .dataframe thead tr:only-child th {\n",
       "        text-align: right;\n",
       "    }\n",
       "\n",
       "    .dataframe thead th {\n",
       "        text-align: left;\n",
       "    }\n",
       "\n",
       "    .dataframe tbody tr th {\n",
       "        vertical-align: top;\n",
       "    }\n",
       "</style>\n",
       "<table border=\"1\" class=\"dataframe\">\n",
       "  <thead>\n",
       "    <tr style=\"text-align: right;\">\n",
       "      <th></th>\n",
       "      <th>AREA</th>\n",
       "      <th>COUNT</th>\n",
       "      <th>EVENT_TYPE</th>\n",
       "      <th>POPULATION</th>\n",
       "      <th>RACE</th>\n",
       "      <th>SEX</th>\n",
       "      <th>SITE</th>\n",
       "      <th>YEAR</th>\n",
       "    </tr>\n",
       "  </thead>\n",
       "  <tbody>\n",
       "    <tr>\n",
       "      <th>100</th>\n",
       "      <td>Arkansas</td>\n",
       "      <td>13235</td>\n",
       "      <td>Incidence</td>\n",
       "      <td>2691571</td>\n",
       "      <td>All Races</td>\n",
       "      <td>Male and Female</td>\n",
       "      <td>All Cancer Sites Combined</td>\n",
       "      <td>2001</td>\n",
       "    </tr>\n",
       "    <tr>\n",
       "      <th>101</th>\n",
       "      <td>Arkansas</td>\n",
       "      <td>6091</td>\n",
       "      <td>Mortality</td>\n",
       "      <td>2691571</td>\n",
       "      <td>All Races</td>\n",
       "      <td>Male and Female</td>\n",
       "      <td>All Cancer Sites Combined</td>\n",
       "      <td>2001</td>\n",
       "    </tr>\n",
       "    <tr>\n",
       "      <th>102</th>\n",
       "      <td>Arkansas</td>\n",
       "      <td>13253</td>\n",
       "      <td>Incidence</td>\n",
       "      <td>2705927</td>\n",
       "      <td>All Races</td>\n",
       "      <td>Male and Female</td>\n",
       "      <td>All Cancer Sites Combined</td>\n",
       "      <td>2002</td>\n",
       "    </tr>\n",
       "    <tr>\n",
       "      <th>103</th>\n",
       "      <td>Arkansas</td>\n",
       "      <td>6282</td>\n",
       "      <td>Mortality</td>\n",
       "      <td>2705927</td>\n",
       "      <td>All Races</td>\n",
       "      <td>Male and Female</td>\n",
       "      <td>All Cancer Sites Combined</td>\n",
       "      <td>2002</td>\n",
       "    </tr>\n",
       "    <tr>\n",
       "      <th>104</th>\n",
       "      <td>Arkansas</td>\n",
       "      <td>13830</td>\n",
       "      <td>Incidence</td>\n",
       "      <td>2724816</td>\n",
       "      <td>All Races</td>\n",
       "      <td>Male and Female</td>\n",
       "      <td>All Cancer Sites Combined</td>\n",
       "      <td>2003</td>\n",
       "    </tr>\n",
       "  </tbody>\n",
       "</table>\n",
       "</div>"
      ],
      "text/plain": [
       "         AREA  COUNT EVENT_TYPE  POPULATION       RACE              SEX  \\\n",
       "100  Arkansas  13235  Incidence     2691571  All Races  Male and Female   \n",
       "101  Arkansas   6091  Mortality     2691571  All Races  Male and Female   \n",
       "102  Arkansas  13253  Incidence     2705927  All Races  Male and Female   \n",
       "103  Arkansas   6282  Mortality     2705927  All Races  Male and Female   \n",
       "104  Arkansas  13830  Incidence     2724816  All Races  Male and Female   \n",
       "\n",
       "                          SITE  YEAR  \n",
       "100  All Cancer Sites Combined  2001  \n",
       "101  All Cancer Sites Combined  2001  \n",
       "102  All Cancer Sites Combined  2002  \n",
       "103  All Cancer Sites Combined  2002  \n",
       "104  All Cancer Sites Combined  2003  "
      ]
     },
     "execution_count": 7,
     "metadata": {},
     "output_type": "execute_result"
    }
   ],
   "source": [
    "#create dataframe that is only a total of all races, genders and cancers:\n",
    "all_data = data[(data[\"SITE\"] == \"All Cancer Sites Combined\") & (data[\"RACE\"] == \"All Races\") & (data[\"SEX\"] == \"Male and Female\")]\n",
    "\n",
    "#reset index and remove subsequent index column that is created so that the below for loop will work:\n",
    "all_data.reset_index(inplace = True)\n",
    "all_data.drop(labels=\"index\", axis = 1, inplace=True)\n",
    "\n",
    "#there are some columns with \"~\" for \"COUNT\". These \"~\", \"COUNT\" values are always an \"incidence\"\n",
    "#and there is no \"incidence\" data for that state in that year. There is \"mortality\" data for that state and year,\n",
    "#but this is irrelevant without \"incidence\" data. The \"mortality\" data for that state and that year will always be\n",
    "#the next row following the \"incidence\" data. The following for loop will remove the rows with a \"~\" value as well \n",
    "#as the following row with \"mortality\" data. This is not a common occurence within the dataset and can be safely ignored.\n",
    "#The following for loop will remove those rows as well as the following, related row. \n",
    "for index, row in all_data.iterrows():\n",
    "    if row[\"COUNT\"] == \"~\":\n",
    "        all_data.drop(index, inplace = True)\n",
    "        all_data.drop(index + 1, inplace = True)\n",
    "\n",
    "#The following will convert \"COUNT\" to integers, as they were imported as objects. \n",
    "all_data[\"COUNT\"] = pd.to_numeric(all_data[\"COUNT\"])\n",
    "\n",
    "#the following is just to check that the above for loop worked. Arkansas had a \"COUNT\" value of \"~\" in 1999 and 2000,\n",
    "#so this should show us if those years are skipped\n",
    "all_data.loc[all_data[\"AREA\"] == \"Arkansas\"].head()"
   ]
  },
  {
   "cell_type": "code",
   "execution_count": 8,
   "metadata": {},
   "outputs": [
    {
     "name": "stderr",
     "output_type": "stream",
     "text": [
      "C:\\Users\\dan.brueckman\\Anaconda3\\envs\\PythonData\\lib\\site-packages\\ipykernel_launcher.py:2: SettingWithCopyWarning: \n",
      "A value is trying to be set on a copy of a slice from a DataFrame.\n",
      "Try using .loc[row_indexer,col_indexer] = value instead\n",
      "\n",
      "See the caveats in the documentation: http://pandas.pydata.org/pandas-docs/stable/indexing.html#indexing-view-versus-copy\n",
      "  \n"
     ]
    },
    {
     "data": {
      "text/html": [
       "<div>\n",
       "<style>\n",
       "    .dataframe thead tr:only-child th {\n",
       "        text-align: right;\n",
       "    }\n",
       "\n",
       "    .dataframe thead th {\n",
       "        text-align: left;\n",
       "    }\n",
       "\n",
       "    .dataframe tbody tr th {\n",
       "        vertical-align: top;\n",
       "    }\n",
       "</style>\n",
       "<table border=\"1\" class=\"dataframe\">\n",
       "  <thead>\n",
       "    <tr style=\"text-align: right;\">\n",
       "      <th></th>\n",
       "      <th>AREA</th>\n",
       "      <th>% of Population</th>\n",
       "    </tr>\n",
       "  </thead>\n",
       "  <tbody>\n",
       "    <tr>\n",
       "      <th>0</th>\n",
       "      <td>Alabama</td>\n",
       "      <td>0.215440</td>\n",
       "    </tr>\n",
       "    <tr>\n",
       "      <th>1</th>\n",
       "      <td>Alaska</td>\n",
       "      <td>0.119426</td>\n",
       "    </tr>\n",
       "    <tr>\n",
       "      <th>2</th>\n",
       "      <td>Arizona</td>\n",
       "      <td>0.169282</td>\n",
       "    </tr>\n",
       "    <tr>\n",
       "      <th>3</th>\n",
       "      <td>Arkansas</td>\n",
       "      <td>0.224797</td>\n",
       "    </tr>\n",
       "    <tr>\n",
       "      <th>4</th>\n",
       "      <td>California</td>\n",
       "      <td>0.152530</td>\n",
       "    </tr>\n",
       "  </tbody>\n",
       "</table>\n",
       "</div>"
      ],
      "text/plain": [
       "         AREA  % of Population\n",
       "0     Alabama         0.215440\n",
       "1      Alaska         0.119426\n",
       "2     Arizona         0.169282\n",
       "3    Arkansas         0.224797\n",
       "4  California         0.152530"
      ]
     },
     "execution_count": 8,
     "metadata": {},
     "output_type": "execute_result"
    }
   ],
   "source": [
    "#adding column with count of incidences and mortalities per population of state that year\n",
    "all_data[\"% of Population\"] = (all_data[\"COUNT\"]/all_data[\"POPULATION\"])*100\n",
    "\n",
    "#create two separate datasets for incidence and mortality \n",
    "all_pop_incidence_data = all_data.loc[all_data[\"EVENT_TYPE\"] == \"Incidence\"]\n",
    "all_pop_mortality_data = all_data.loc[all_data[\"EVENT_TYPE\"] == \"Mortality\"]\n",
    "\n",
    "#create new dataframes based on groupbys that give us the average of the % of population to have a \n",
    "#cancer incidence or mortality from 1999-2014\n",
    "state_pop_incidences_df = pd.DataFrame(all_pop_incidence_data.groupby([\"AREA\"]).mean())\n",
    "state_pop_incidences_df.reset_index(inplace = True)\n",
    "state_pop_incidences_df.drop(labels = [\"COUNT\", \"POPULATION\"], axis = 1, inplace = True)\n",
    "\n",
    "state_pop_mortality_df = pd.DataFrame(all_pop_mortality_data.groupby([\"AREA\"]).mean())\n",
    "state_pop_mortality_df.reset_index(inplace = True)\n",
    "state_pop_mortality_df.drop(labels = [\"COUNT\", \"POPULATION\"], axis = 1, inplace = True)\n",
    "\n",
    "state_pop_mortality_df.head()"
   ]
  },
  {
   "cell_type": "code",
   "execution_count": 18,
   "metadata": {},
   "outputs": [
    {
     "name": "stderr",
     "output_type": "stream",
     "text": [
      "C:\\Users\\dan.brueckman\\Anaconda3\\envs\\PythonData\\lib\\site-packages\\ipykernel_launcher.py:3: SettingWithCopyWarning: \n",
      "A value is trying to be set on a copy of a slice from a DataFrame\n",
      "\n",
      "See the caveats in the documentation: http://pandas.pydata.org/pandas-docs/stable/indexing.html#indexing-view-versus-copy\n",
      "  This is separate from the ipykernel package so we can avoid doing imports until\n",
      "C:\\Users\\dan.brueckman\\Anaconda3\\envs\\PythonData\\lib\\site-packages\\ipykernel_launcher.py:6: SettingWithCopyWarning: \n",
      "A value is trying to be set on a copy of a slice from a DataFrame\n",
      "\n",
      "See the caveats in the documentation: http://pandas.pydata.org/pandas-docs/stable/indexing.html#indexing-view-versus-copy\n",
      "  \n"
     ]
    },
    {
     "data": {
      "text/html": [
       "<div>\n",
       "<style>\n",
       "    .dataframe thead tr:only-child th {\n",
       "        text-align: right;\n",
       "    }\n",
       "\n",
       "    .dataframe thead th {\n",
       "        text-align: left;\n",
       "    }\n",
       "\n",
       "    .dataframe tbody tr th {\n",
       "        vertical-align: top;\n",
       "    }\n",
       "</style>\n",
       "<table border=\"1\" class=\"dataframe\">\n",
       "  <thead>\n",
       "    <tr style=\"text-align: right;\">\n",
       "      <th></th>\n",
       "      <th>State</th>\n",
       "      <th>Mortality Rate</th>\n",
       "    </tr>\n",
       "  </thead>\n",
       "  <tbody>\n",
       "    <tr>\n",
       "      <th>0</th>\n",
       "      <td>Alabama</td>\n",
       "      <td>43.246826</td>\n",
       "    </tr>\n",
       "    <tr>\n",
       "      <th>1</th>\n",
       "      <td>Alaska</td>\n",
       "      <td>33.052162</td>\n",
       "    </tr>\n",
       "    <tr>\n",
       "      <th>2</th>\n",
       "      <td>Arizona</td>\n",
       "      <td>38.747238</td>\n",
       "    </tr>\n",
       "    <tr>\n",
       "      <th>3</th>\n",
       "      <td>Arkansas</td>\n",
       "      <td>43.563621</td>\n",
       "    </tr>\n",
       "    <tr>\n",
       "      <th>4</th>\n",
       "      <td>California</td>\n",
       "      <td>36.389487</td>\n",
       "    </tr>\n",
       "  </tbody>\n",
       "</table>\n",
       "</div>"
      ],
      "text/plain": [
       "        State  Mortality Rate\n",
       "0     Alabama       43.246826\n",
       "1      Alaska       33.052162\n",
       "2     Arizona       38.747238\n",
       "3    Arkansas       43.563621\n",
       "4  California       36.389487"
      ]
     },
     "execution_count": 18,
     "metadata": {},
     "output_type": "execute_result"
    }
   ],
   "source": [
    "#need to reset index so that when we do the below division of one column and another, the index values match \n",
    "all_pop_mortality_data.reset_index(inplace = True)\n",
    "all_pop_mortality_data.drop(labels=\"index\", axis = 1, inplace=True)\n",
    "\n",
    "all_pop_incidence_data.reset_index(inplace = True)\n",
    "all_pop_incidence_data.drop(labels = \"index\", axis = 1, inplace = True)\n",
    "\n",
    "#creating dictionary to use for DataFrame about mortality rates\n",
    "state_mortality_total_dict = {\"State\": all_pop_incidence_data[\"AREA\"], \n",
    "                              \"Mortality Rate\": (all_pop_mortality_data[\"COUNT\"]/all_pop_incidence_data[\"COUNT\"])*100, \n",
    "                              \"Year\": all_pop_incidence_data[\"YEAR\"]}\n",
    "\n",
    "state_mortality_rate_df = pd.DataFrame.from_dict(state_mortality_total_dict)\n",
    "\n",
    "#the above DataFrame will have mortality rate for every year for each state, the below groupby will allow us to \n",
    "#have the average of those for each state in a new DataFrame\n",
    "average_state_mortality_df = pd.DataFrame(state_mortality_rate_df.groupby([\"State\"]).mean())\n",
    "average_state_mortality_df.reset_index(inplace = True)\n",
    "\n",
    "average_state_mortality_df.head()"
   ]
  },
  {
   "cell_type": "code",
   "execution_count": 16,
   "metadata": {},
   "outputs": [
    {
     "name": "stderr",
     "output_type": "stream",
     "text": [
      "C:\\Users\\dan.brueckman\\Anaconda3\\envs\\PythonData\\lib\\site-packages\\matplotlib\\cbook\\deprecation.py:106: MatplotlibDeprecationWarning: Adding an axes using the same arguments as a previous axes currently reuses the earlier instance.  In a future version, a new instance will always be created and returned.  Meanwhile, this warning can be suppressed, and the future behavior ensured, by passing a unique label to each axes instance.\n",
      "  warnings.warn(message, mplDeprecation, stacklevel=1)\n"
     ]
    },
    {
     "data": {
      "image/png": "[encoded data removed]",
      "text/plain": [
       "<matplotlib.figure.Figure at 0x26665949198>"
      ]
     },
     "metadata": {},
     "output_type": "display_data"
    }
   ],
   "source": [
    "x_axis = np.arange(len(state_pop_incidences_df))\n",
    "tick_locations = [value+0.1 for value in x_axis]\n",
    "\n",
    "plt.figure(figsize = (20,3))\n",
    "plt.xticks(tick_locations, state_pop_incidences_df[\"AREA\"], rotation=\"vertical\")\n",
    "\n",
    "plt.xlim(-0.25, len(x_axis))\n",
    "plt.ylim(0, max(state_pop_incidences_df[\"% of Population\"])+.1)\n",
    "\n",
    "plt.title(\"Average Cancer Incidence and Mortality Rate by State: 1999-2014\")\n",
    "plt.ylabel(\"Incidence and Mortality %\")\n",
    "\n",
    "ax = plt.subplot(111)\n",
    "incidence_bar = ax.bar(x_axis-0.2, state_pop_incidences_df[\"% of Population\"], width=0.4,color='y',align='edge', label = \"Incidence in Population (%)\")\n",
    "mortality_bar = ax.bar(x_axis, state_pop_mortality_df[\"% of Population\"], width=0.4 ,color='r',align='edge', label = \"Mortality in Population (%)\")\n",
    "\n",
    "plt.legend(handles=[incidence_bar, mortality_bar], loc = \"upper center\", bbox_to_anchor=(0.5, -0.6), shadow = True )\n",
    "\n",
    "plt.show()"
   ]
  },
  {
   "cell_type": "code",
   "execution_count": 12,
   "metadata": {
    "scrolled": true
   },
   "outputs": [
    {
     "data": {
      "image/png": "[encoded data removed]",
      "text/plain": [
       "<matplotlib.figure.Figure at 0x26665b35cf8>"
      ]
     },
     "metadata": {},
     "output_type": "display_data"
    }
   ],
   "source": [
    "x_axis = np.arange(len(average_state_mortality_df))\n",
    "tick_locations = [value+0.4 for value in x_axis]\n",
    "\n",
    "plt.figure(figsize = (20,3))\n",
    "plt.xticks(tick_locations, average_state_mortality_df[\"State\"], rotation=\"vertical\")\n",
    "\n",
    "plt.xlim(-0.25, len(x_axis))\n",
    "plt.ylim(0, max(average_state_mortality_df[\"Mortality Rate\"])+5)\n",
    "\n",
    "plt.title(\"Average Cancer Mortality Rate by State: 1999-2014\")\n",
    "plt.ylabel(\"Mortality %\")\n",
    "\n",
    "avg_state_mortality_bar = plt.bar(x_axis, average_state_mortality_df[\"Mortality Rate\"], alpha = .5, color = \"r\", align=\"edge\")\n",
    "plt.show()"
   ]
  },
  {
   "cell_type": "code",
   "execution_count": null,
   "metadata": {
    "collapsed": true
   },
   "outputs": [],
   "source": []
  },
  {
   "cell_type": "code",
   "execution_count": null,
   "metadata": {
    "collapsed": true
   },
   "outputs": [],
   "source": []
  },
  {
   "cell_type": "code",
   "execution_count": null,
   "metadata": {
    "collapsed": true
   },
   "outputs": [],
   "source": []
  },
  {
   "cell_type": "code",
   "execution_count": null,
   "metadata": {
    "collapsed": true
   },
   "outputs": [],
   "source": []
  }
 ],
 "metadata": {
  "kernelspec": {
   "display_name": "Python 3",
   "language": "python",
   "name": "python3"
  },
  "language_info": {
   "codemirror_mode": {
    "name": "ipython",
    "version": 3
   },
   "file_extension": ".py",
   "mimetype": "text/x-python",
   "name": "python",
   "nbconvert_exporter": "python",
   "pygments_lexer": "ipython3",
   "version": "3.6.3"
  }
 },
 "nbformat": 4,
 "nbformat_minor": 2
}
